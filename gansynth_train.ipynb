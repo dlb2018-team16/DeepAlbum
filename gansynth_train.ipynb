{
  "nbformat": 4,
  "nbformat_minor": 0,
  "metadata": {
    "colab": {
      "name": "Untitled0.ipynb",
      "version": "0.3.2",
      "provenance": [],
      "private_outputs": true
    },
    "kernelspec": {
      "name": "python3",
      "display_name": "Python 3"
    }
  },
  "cells": [
    {
      "metadata": {
        "id": "a9zLzNaI2eJ7",
        "colab_type": "code",
        "colab": {}
      },
      "cell_type": "code",
      "source": [
        "# gdriveのマウント\n",
        "# oauthの認可の後に、APIキー?をプロンプトに入力するとマウント完了\n",
        "from google.colab import drive\n",
        "drive.mount('/content/drive/')"
      ],
      "execution_count": 0,
      "outputs": []
    },
    {
      "metadata": {
        "id": "J8Xc04HY2guw",
        "colab_type": "code",
        "colab": {}
      },
      "cell_type": "code",
      "source": [
        "#事前にgdriveにダウンロードしてある場合は必要なし\n",
        "# NSynthの訓練データをダウンロード\n",
        "#!wget http://download.magenta.tensorflow.org/datasets/nsynth/nsynth-train.tfrecord"
      ],
      "execution_count": 0,
      "outputs": []
    },
    {
      "metadata": {
        "id": "KXmj3UFI2lYP",
        "colab_type": "code",
        "colab": {}
      },
      "cell_type": "code",
      "source": [
        "!git clone https://github.com/dlb2018-team16/magenta.git\n",
        "\n",
        "%cd /content/magenta\n",
        "\n",
        "# master の場合はbranchの切り替え必要ない\n",
        "#!git checkout devel/change-dataset"
      ],
      "execution_count": 0,
      "outputs": []
    },
    {
      "metadata": {
        "id": "OH5n9QIR2pPI",
        "colab_type": "code",
        "colab": {}
      },
      "cell_type": "code",
      "source": [
        "# train_data_path, train_root_dirを必要に応じて書き換える\n",
        "# gdiveなどの外部ストレージにしないと揮発してしまう\n",
        "!env PYTHONPATH=\"/content/magenta:$PYTHONPATH\" python3 magenta/models/gansynth/gansynth_train.py --config=mel_prog_hires --hparams='{\"train_data_path\":\"/content/drive/My Drive/nsynth-train.tfrecord\", \"train_root_dir\":\"/content/drive/My Drive/gansynth/acoustic\", \"instruments\":\"1\"}'\n"
      ],
      "execution_count": 0,
      "outputs": []
    }
  ]
}